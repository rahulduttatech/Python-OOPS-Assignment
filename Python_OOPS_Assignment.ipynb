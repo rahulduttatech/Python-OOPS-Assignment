{
  "nbformat": 4,
  "nbformat_minor": 0,
  "metadata": {
    "colab": {
      "provenance": [],
      "authorship_tag": "ABX9TyNmaNMf9CNARl8LKyRsY2i5",
      "include_colab_link": true
    },
    "kernelspec": {
      "name": "python3",
      "display_name": "Python 3"
    },
    "language_info": {
      "name": "python"
    }
  },
  "cells": [
    {
      "cell_type": "markdown",
      "metadata": {
        "id": "view-in-github",
        "colab_type": "text"
      },
      "source": [
        "<a href=\"https://colab.research.google.com/github/rahulduttatech/Python-OOPS-Assignment/blob/main/Python_OOPS_Assignment.ipynb\" target=\"_parent\"><img src=\"https://colab.research.google.com/assets/colab-badge.svg\" alt=\"Open In Colab\"/></a>"
      ]
    },
    {
      "cell_type": "markdown",
      "source": [
        "**Q1. What are the five key concepts of Object-Oriented Programming (OOP)?**"
      ],
      "metadata": {
        "id": "_pMeOwf6sRu8"
      }
    },
    {
      "cell_type": "markdown",
      "source": [
        "**Ans1.** The five key concepts of Object-Oriented Programming (OOP) are:\n",
        "\n",
        "**Classes:**\n",
        "\n",
        "A class is a blueprint or template for creating objects. It defines the properties (attributes) and behaviors (methods) that the objects created from the class will have.\n",
        "For example, a Car class might define properties like color, make, model, and methods like start() or stop().\n",
        "\n",
        "**Objects:**\n",
        "\n",
        "An object is an instance of a class. It represents a specific entity that is created based on the structure defined by its class.\n",
        "For example, if Car is a class, then my_car = Car() creates an object my_car of that class.\n",
        "\n",
        "**Encapsulation:**\n",
        "\n",
        "Encapsulation is the concept of bundling the data (attributes) and methods that operate on the data into a single unit (class) and restricting access to some of the object's components.\n",
        "It is typically achieved by using access modifiers like private or protected to hide data, ensuring that it cannot be changed directly from outside the class. This provides data security and simplifies code maintenance.\n",
        "\n",
        "**Inheritance:**\n",
        "\n",
        "Inheritance allows a new class (called a subclass or derived class) to inherit attributes and methods from an existing class (called a superclass or base class).\n",
        "This helps in code reuse and creating a hierarchical relationship between classes. For example, a Truck class can inherit from the Vehicle class and gain access to properties and methods of Vehicle.\n",
        "\n",
        "**Polymorphism:**\n",
        "\n",
        "Polymorphism allows objects to be treated as instances of their parent class, even if they belong to different subclasses. It enables a single method or function to work with different types of objects.\n",
        "For example, different classes like Dog and Cat can inherit from a Animal class, and both can have a method speak(). Even though the speak() method behaves differently for each, polymorphism allows calling speak() on any Animal object without needing to know the specific type of animal.\n",
        "These concepts work together to allow for a structured and modular approach to programming, making code easier to understand, extend, and maintain"
      ],
      "metadata": {
        "id": "bLopb72csXvb"
      }
    },
    {
      "cell_type": "markdown",
      "source": [
        "**Q2. Write a Python class for a `Car` with attributes for `make`, `model`, and `year`. Include a method to display the car's information.**"
      ],
      "metadata": {
        "id": "oh9SZty2sdab"
      }
    },
    {
      "cell_type": "markdown",
      "source": [
        "**Ans2**. Here’s a Python class for a Car with attributes make, model, and year, including a method to display the car’s information:"
      ],
      "metadata": {
        "id": "gjE5JX68ssUu"
      }
    },
    {
      "cell_type": "code",
      "execution_count": null,
      "metadata": {
        "id": "qXi310rKsIB0"
      },
      "outputs": [],
      "source": [
        "class Car:\n",
        "    def __init__(self, make, model, year):\n",
        "        # Initialize the car's attributes\n",
        "        self.make = make\n",
        "        self.model = model\n",
        "        self.year = year\n",
        "\n",
        "    def display_info(self):\n",
        "        # Display the car's information in a formatted string\n",
        "        print(f\"Car Information: {self.year} {self.make} {self.model}\")\n",
        "\n",
        "# Example usage:\n",
        "my_car = Car(\"Toyota\", \"Camry\", 2022)\n",
        "my_car.display_info()  # Output: Car Information: 2022 Toyota Camry\n"
      ]
    },
    {
      "cell_type": "markdown",
      "source": [
        "\n",
        "### Explanation:\n",
        "1. **Class Definition**: The `Car` class is defined with an `__init__` method that initializes the attributes `make`, `model`, and `year` when an object is created.\n",
        "2. **`__init__` Method**:\n",
        "   - Takes `make`, `model`, and `year` as parameters.\n",
        "   - Uses `self` to assign these parameters to the instance variables `self.make`, `self.model`, and `self.year`.\n",
        "3. **`display_info()` Method**:\n",
        "   - This method prints out a formatted string with the car’s `make`, `model`, and `year` attributes.\n",
        "4. **Example Usage**:\n",
        "   - Creates an instance of the `Car` class called `my_car` with `make` as \"Toyota\", `model` as \"Camry\", and `year` as `2022`.\n",
        "   - Calls `my_car.display_info()` to display the car's information.\n",
        "\n",
        "### Example Output:\n",
        "```\n",
        "Car Information: 2022 Toyota Camry\n",
        "```\n",
        "\n",
        "This class allows you to create `Car` objects with specific attributes and display their information easily."
      ],
      "metadata": {
        "id": "p6-d4A8Bs1pN"
      }
    },
    {
      "cell_type": "markdown",
      "source": [
        "**Q3. Explain the difference between instance methods and class methods. Provide an example of each.**"
      ],
      "metadata": {
        "id": "6KJpt4kYtJhk"
      }
    },
    {
      "cell_type": "markdown",
      "source": [
        "**Ans3.** In Python, **instance methods** and **class methods** are two types of methods that differ in how they interact with the class and its instances. Here’s a detailed explanation of each, along with examples:\n",
        "\n",
        "### 1. Instance Methods:\n",
        "- **Definition**: Instance methods are methods that operate on an instance of a class. They can access and modify instance attributes and are specific to each object created from the class.\n",
        "- **How to define**: These methods are defined with `self` as the first parameter, which represents the specific instance calling the method.\n",
        "- **Usage**: Use instance methods when you need to access or modify the instance-specific data.\n",
        "\n",
        "**Example of an Instance Method**:"
      ],
      "metadata": {
        "id": "Ayyn1HP1tmRj"
      }
    },
    {
      "cell_type": "code",
      "source": [
        "class Dog:\n",
        "    def __init__(self, name, breed):\n",
        "        self.name = name\n",
        "        self.breed = breed\n",
        "\n",
        "    # Instance method\n",
        "    def bark(self):\n",
        "        return f\"{self.name} says Woof!\"\n",
        "\n",
        "# Example usage:\n",
        "my_dog = Dog(\"Buddy\", \"Golden Retriever\")\n",
        "print(my_dog.bark())  # Output: Buddy says Woof!"
      ],
      "metadata": {
        "id": "SFGAhIuItnBj"
      },
      "execution_count": null,
      "outputs": []
    },
    {
      "cell_type": "markdown",
      "source": [
        "- Here, `bark` is an instance method that uses the `self` parameter to access the `name` attribute of the `my_dog` instance.\n",
        "\n",
        "### 2. Class Methods:\n",
        "- **Definition**: Class methods operate on the class itself rather than on instances of the class. They have access to class-level data, which is shared among all instances of the class.\n",
        "- **How to define**: These methods are defined with `@classmethod` decorator and take `cls` as the first parameter, which represents the class itself.\n",
        "- **Usage**: Use class methods when you need to access or modify class-level attributes or when the behavior should be related to the class rather than specific instances.\n",
        "\n",
        "**Example of a Class Method**:"
      ],
      "metadata": {
        "id": "CRvszMhStryk"
      }
    },
    {
      "cell_type": "code",
      "source": [
        "class Dog:\n",
        "    species = \"Canine\"  # Class attribute\n",
        "\n",
        "    def __init__(self, name, breed):\n",
        "        self.name = name\n",
        "        self.breed = breed\n",
        "\n",
        "    # Class method\n",
        "    @classmethod\n",
        "    def get_species(cls):\n",
        "        return f\"All dogs are {cls.species}\"\n",
        "\n",
        "# Example usage:\n",
        "print(Dog.get_species())  # Output: All dogs are Canine"
      ],
      "metadata": {
        "id": "AGBWrs-Tt0y2"
      },
      "execution_count": null,
      "outputs": []
    },
    {
      "cell_type": "markdown",
      "source": [
        "\n",
        "- Here, `get_species` is a class method that uses the `cls` parameter to access the class attribute `species`.\n",
        "\n",
        "### Key Differences:\n",
        "| **Feature**             | **Instance Method**                      | **Class Method**                               |\n",
        "|-------------------------|--------------------------------------------|------------------------------------------------|\n",
        "| **Parameter**           | Takes `self` as the first parameter       | Takes `cls` as the first parameter              |\n",
        "| **Access**              | Can access and modify instance attributes | Can access and modify class-level attributes    |\n",
        "| **Called On**           | Called on instances of the class          | Called on the class itself                      |\n",
        "| **Usage**               | Use when behavior depends on instance data| Use when behavior depends on class-level data   |\n",
        "\n",
        "### Summary:\n",
        "- **Instance methods** work with data specific to an instance of a class.\n",
        "- **Class methods** work with data that is shared across all instances of a class, focusing more on the class itself."
      ],
      "metadata": {
        "id": "El5eBWlqtWbq"
      }
    },
    {
      "cell_type": "markdown",
      "source": [
        "**Q4. How does Python implement method overloading? Give an example.**"
      ],
      "metadata": {
        "id": "Zzd1CU-4t6p2"
      }
    },
    {
      "cell_type": "markdown",
      "source": [
        "**Ans4.** In Python, **method overloading** (having multiple methods with the same name but different parameters) is not supported in the same way as in some other programming languages like Java or C++. Python does not directly support method overloading because it only considers the method name and not the parameter count or types when looking up methods.\n",
        "\n",
        "However, you can **simulate method overloading** in Python using:\n",
        "1. Default arguments.\n",
        "2. Variable-length arguments (`*args` and `**kwargs`).\n",
        "\n",
        "### Example Using Default Arguments:\n",
        "By using default values for arguments, you can create a method that behaves differently depending on how many arguments are provided:"
      ],
      "metadata": {
        "id": "1a4G-8DlvVSJ"
      }
    },
    {
      "cell_type": "code",
      "source": [
        "class MathOperations:\n",
        "    def add(self, a, b=0, c=0):\n",
        "        return a + b + c\n",
        "\n",
        "# Example usage:\n",
        "math = MathOperations()\n",
        "\n",
        "# Calling with one argument\n",
        "print(math.add(5))        # Output: 5 (5 + 0 + 0)\n",
        "\n",
        "# Calling with two arguments\n",
        "print(math.add(5, 10))    # Output: 15 (5 + 10 + 0)\n",
        "\n",
        "# Calling with three arguments\n",
        "print(math.add(5, 10, 15))  # Output: 30 (5 + 10 + 15)"
      ],
      "metadata": {
        "id": "0-EEhEgKvX6k"
      },
      "execution_count": null,
      "outputs": []
    },
    {
      "cell_type": "markdown",
      "source": [
        "**Explanation**:\n",
        "- The `add()` method has three parameters: `a`, `b`, and `c`. Parameters `b` and `c` have default values of `0`, so if they are not provided, they will default to `0`.\n",
        "- Depending on the number of arguments passed when calling `add()`, it behaves differently, thus simulating method overloading.\n",
        "\n",
        "### Example Using `*args` for Variable Arguments:\n",
        "Another way to simulate method overloading is to use `*args`, which allows a method to accept a variable number of arguments:"
      ],
      "metadata": {
        "id": "JYXVa2Dlvaci"
      }
    },
    {
      "cell_type": "code",
      "source": [
        "class MathOperations:\n",
        "    def add(self, *args):\n",
        "        return sum(args)\n",
        "\n",
        "# Example usage:\n",
        "math = MathOperations()\n",
        "\n",
        "# Calling with different numbers of arguments\n",
        "print(math.add(5))             # Output: 5\n",
        "print(math.add(5, 10))         # Output: 15\n",
        "print(math.add(5, 10, 15, 20)) # Output: 50"
      ],
      "metadata": {
        "id": "Kvkz7DRxvcly"
      },
      "execution_count": null,
      "outputs": []
    },
    {
      "cell_type": "markdown",
      "source": [
        "\n",
        "\n",
        "**Explanation**:\n",
        "- The `add()` method accepts a variable number of arguments using `*args` and calculates their sum.\n",
        "- This allows the method to handle any number of arguments, providing more flexibility.\n",
        "\n",
        "### Summary:\n",
        "- Python does not support method overloading natively.\n",
        "- You can use **default arguments** or **variable-length arguments** (`*args`, `**kwargs`) to simulate the behavior of overloaded methods.\n",
        "- This approach makes Python functions more flexible but requires careful handling of different argument cases."
      ],
      "metadata": {
        "id": "MdmMLIF4uVdy"
      }
    },
    {
      "cell_type": "markdown",
      "source": [
        "**Q5. What are the three types of access modifiers in Python? How are they denoted?**"
      ],
      "metadata": {
        "id": "r50vTgoDvelS"
      }
    },
    {
      "cell_type": "markdown",
      "source": [
        "**Ans5.** In Python, access modifiers control the visibility and accessibility of class attributes (variables) and methods. While Python doesn’t have explicit access modifiers like `public`, `protected`, and `private` as in some other languages, it follows a convention using **naming patterns** to indicate the intended access level. Here are the three types:\n",
        "\n",
        "### 1. Public\n",
        "   - **Definition**: Public members are accessible from anywhere—both inside and outside the class.\n",
        "   - **How to denote**: Public attributes and methods are defined using a name without any leading underscores.\n",
        "   - **Example**:"
      ],
      "metadata": {
        "id": "Y-piqYwkv7Hk"
      }
    },
    {
      "cell_type": "code",
      "source": [
        "class Example:\n",
        "         def __init__(self):\n",
        "             self.public_var = \"I am public\"\n",
        "\n",
        "         def public_method(self):\n",
        "             return \"This is a public method\"\n",
        "\n",
        "     obj = Example()\n",
        "     print(obj.public_var)          # Output: I am public\n",
        "     print(obj.public_method())     # Output: This is a public method"
      ],
      "metadata": {
        "id": "7Zwx_mzrv9Ks"
      },
      "execution_count": null,
      "outputs": []
    },
    {
      "cell_type": "markdown",
      "source": [
        "   - **Explanation**: In this example, `public_var` and `public_method()` can be accessed directly using the `obj` instance, showing that they are public.\n",
        "\n",
        "### 2. Protected\n",
        "   - **Definition**: Protected members are intended to be accessible only within the class and its subclasses (derived classes). However, Python does not enforce this strictly and relies on naming conventions.\n",
        "   - **How to denote**: Use a single underscore `_` as a prefix to the name.\n",
        "   - **Example**:"
      ],
      "metadata": {
        "id": "CHXZan-XwAzF"
      }
    },
    {
      "cell_type": "code",
      "source": [
        " class Example:\n",
        "         def __init__(self):\n",
        "             self._protected_var = \"I am protected\"\n",
        "\n",
        "         def _protected_method(self):\n",
        "             return \"This is a protected method\"\n",
        "\n",
        "     class Derived(Example):\n",
        "         def access_protected(self):\n",
        "             return self._protected_var\n",
        "\n",
        "     obj = Derived()\n",
        "     print(obj._protected_var)          # Output: I am protected\n",
        "     print(obj.access_protected())      # Output: I am protected"
      ],
      "metadata": {
        "id": "jeoqWwjrwDjN"
      },
      "execution_count": null,
      "outputs": []
    },
    {
      "cell_type": "markdown",
      "source": [
        "   - **Explanation**: Here, `_protected_var` and `_protected_method()` are meant to be treated as protected. They can still be accessed directly from an object but indicate that they are intended for internal use within the class and subclasses.\n",
        "\n",
        "### 3. Private\n",
        "   - **Definition**: Private members are intended to be accessible only within the class where they are defined. Python uses **name mangling** to make it harder to access these from outside the class.\n",
        "   - **How to denote**: Use a double underscore `__` as a prefix to the name.\n",
        "   - **Example**:"
      ],
      "metadata": {
        "id": "VBH9-mFuwGWj"
      }
    },
    {
      "cell_type": "code",
      "source": [
        "class Example:\n",
        "         def __init__(self):\n",
        "             self.__private_var = \"I am private\"\n",
        "\n",
        "         def __private_method(self):\n",
        "             return \"This is a private method\"\n",
        "\n",
        "         def access_private(self):\n",
        "             return self.__private_method()\n",
        "\n",
        "     obj = Example()\n",
        "     # Accessing private members directly will raise an AttributeError\n",
        "     # print(obj.__private_var)         # Raises AttributeError\n",
        "     print(obj.access_private())        # Output: This is a private method"
      ],
      "metadata": {
        "id": "2IWWGU6HwHHV"
      },
      "execution_count": null,
      "outputs": []
    },
    {
      "cell_type": "markdown",
      "source": [
        "\n",
        "\n",
        "     ```python\n",
        "     \n",
        "     ```\n",
        "   - **Explanation**:\n",
        "     - `__private_var` and `__private_method()` are considered private. Python mangles their names to `_Example__private_var` and `_Example__private_method()` internally, making direct access from outside the class more difficult.\n",
        "     - However, they can still be accessed using their mangled names (not recommended). This shows that Python's private access modifier is more of a convention than strict enforcement.\n",
        "\n",
        "### Summary Table:\n",
        "\n",
        "| **Access Modifier** | **Prefix**   | **Access Level**                                      |\n",
        "|---------------------|--------------|-------------------------------------------------------|\n",
        "| **Public**          | No prefix    | Accessible from anywhere.                             |\n",
        "| **Protected**       | `_` (Single underscore) | Accessible within the class and its subclasses (by convention). |\n",
        "| **Private**         | `__` (Double underscore) | Intended to be accessed only within the class (enforced through name mangling). |\n",
        "\n",
        "In summary, Python uses naming conventions (`_` and `__`) to indicate access levels, providing a level of access control while maintaining the flexibility of Python's design."
      ],
      "metadata": {
        "id": "dpYmEvbXvsGU"
      }
    },
    {
      "cell_type": "markdown",
      "source": [
        "**Q6. Describe the five types of inheritance in Python. Provide a simple example of multiple inheritance.**"
      ],
      "metadata": {
        "id": "p2TYOrKGwJPt"
      }
    },
    {
      "cell_type": "markdown",
      "source": [
        "**Ans6.** In Python, inheritance allows a class to inherit properties and methods from another class, promoting code reuse and establishing a relationship between classes. There are **five types of inheritance** in Python:\n",
        "\n",
        "### 1. Single Inheritance:\n",
        "   - **Definition**: A class inherits from a single parent class.\n",
        "   - **Example**:"
      ],
      "metadata": {
        "id": "qud52GXmwb8H"
      }
    },
    {
      "cell_type": "code",
      "source": [
        "    class Animal:\n",
        "         def speak(self):\n",
        "             return \"Animal speaks\"\n",
        "\n",
        "     class Dog(Animal):\n",
        "         def bark(self):\n",
        "             return \"Woof!\"\n",
        "\n",
        "     # Dog class inherits from Animal\n",
        "     dog = Dog()\n",
        "     print(dog.speak())  # Output: Animal speaks\n",
        "     print(dog.bark())   # Output: Woof!"
      ],
      "metadata": {
        "id": "vrB7Tg4Gwcsn"
      },
      "execution_count": null,
      "outputs": []
    },
    {
      "cell_type": "markdown",
      "source": [
        "   - **Explanation**: The `Dog` class inherits from the `Animal` class, allowing it to use the `speak()` method defined in `Animal`.\n",
        "\n",
        "### 2. Multiple Inheritance:\n",
        "   - **Definition**: A class inherits from more than one parent class.\n",
        "   - **Example**:"
      ],
      "metadata": {
        "id": "iQW7cf9wwgGo"
      }
    },
    {
      "cell_type": "code",
      "source": [
        "class Engine:\n",
        "         def start(self):\n",
        "             return \"Engine starts\"\n",
        "\n",
        "     class Wheels:\n",
        "         def roll(self):\n",
        "             return \"Wheels roll\"\n",
        "\n",
        "     class Car(Engine, Wheels):\n",
        "         def drive(self):\n",
        "             return \"Car drives\"\n",
        "\n",
        "     # Car class inherits from both Engine and Wheels\n",
        "     my_car = Car()\n",
        "     print(my_car.start())  # Output: Engine starts\n",
        "     print(my_car.roll())   # Output: Wheels roll\n",
        "     print(my_car.drive())  # Output: Car drives"
      ],
      "metadata": {
        "id": "xJLQYlDlwjUQ"
      },
      "execution_count": null,
      "outputs": []
    },
    {
      "cell_type": "markdown",
      "source": [
        "- **Explanation**: The `Car` class inherits from both `Engine` and `Wheels`, so it can access methods from both classes (`start()` and `roll()`).\n",
        "\n",
        "### 3. Multilevel Inheritance:\n",
        "   - **Definition**: A class inherits from a parent class, and another class inherits from that derived class, creating a chain.\n",
        "   - **Example**:"
      ],
      "metadata": {
        "id": "oMCt2HROwnjX"
      }
    },
    {
      "cell_type": "code",
      "source": [
        "class Animal:\n",
        "         def eat(self):\n",
        "             return \"Animal eats\"\n",
        "\n",
        "     class Dog(Animal):\n",
        "         def bark(self):\n",
        "             return \"Woof!\"\n",
        "\n",
        "     class Puppy(Dog):\n",
        "         def play(self):\n",
        "             return \"Puppy plays\"\n",
        "\n",
        "     # Puppy class inherits from Dog, which inherits from Animal\n",
        "     puppy = Puppy()\n",
        "     print(puppy.eat())    # Output: Animal eats\n",
        "     print(puppy.bark())   # Output: Woof!\n",
        "     print(puppy.play())   # Output: Puppy plays"
      ],
      "metadata": {
        "id": "l_qvfS1zwq3r"
      },
      "execution_count": null,
      "outputs": []
    },
    {
      "cell_type": "markdown",
      "source": [
        "   - **Explanation**: `Puppy` inherits from `Dog`, and `Dog` inherits from `Animal`, creating a multilevel inheritance chain.\n",
        "\n",
        "### 4. Hierarchical Inheritance:\n",
        "   - **Definition**: Multiple classes inherit from the same parent class.\n",
        "   - **Example**:"
      ],
      "metadata": {
        "id": "khJh4dHHwqlI"
      }
    },
    {
      "cell_type": "code",
      "source": [
        "class Animal:\n",
        "         def eat(self):\n",
        "             return \"Animal eats\"\n",
        "\n",
        "     class Cat(Animal):\n",
        "         def meow(self):\n",
        "             return \"Meow!\"\n",
        "\n",
        "     class Dog(Animal):\n",
        "         def bark(self):\n",
        "             return \"Woof!\"\n",
        "\n",
        "     # Cat and Dog classes inherit from Animal\n",
        "     cat = Cat()\n",
        "     dog = Dog()\n",
        "     print(cat.eat())   # Output: Animal eats\n",
        "     print(cat.meow())  # Output: Meow!\n",
        "     print(dog.eat())   # Output: Animal eats\n",
        "     print(dog.bark())  # Output: Woof!"
      ],
      "metadata": {
        "id": "hB1sU6RYwwsJ"
      },
      "execution_count": null,
      "outputs": []
    },
    {
      "cell_type": "markdown",
      "source": [
        " - **Explanation**: Both `Cat` and `Dog` classes inherit from the `Animal` class, making `Animal` a common base class for them.\n",
        "\n",
        "### 5. Hybrid Inheritance:\n",
        "   - **Definition**: A combination of two or more types of inheritance.\n",
        "   - **Example**: Hybrid inheritance can be a combination of multilevel and multiple inheritance.\n",
        "\n",
        "### Example of Multiple Inheritance:\n",
        "Here’s a simple example of **multiple inheritance**:\n"
      ],
      "metadata": {
        "id": "g-c5ndehwxBB"
      }
    },
    {
      "cell_type": "code",
      "source": [
        "class A:\n",
        "    def method_a(self):\n",
        "        return \"Method from class A\"\n",
        "\n",
        "class B:\n",
        "    def method_b(self):\n",
        "        return \"Method from class B\"\n",
        "\n",
        "class C(A, B):\n",
        "    def method_c(self):\n",
        "        return \"Method from class C\"\n",
        "\n",
        "# C inherits from both A and B\n",
        "obj = C()\n",
        "print(obj.method_a())  # Output: Method from class A\n",
        "print(obj.method_b())  # Output: Method from class B\n",
        "print(obj.method_c())  # Output: Method from class C"
      ],
      "metadata": {
        "id": "5o02d1Otw0ux"
      },
      "execution_count": null,
      "outputs": []
    },
    {
      "cell_type": "markdown",
      "source": [
        "\n",
        "### Explanation:\n",
        "- `C` inherits from both `A` and `B`, making it a **multiple inheritance** example.\n",
        "- This allows `obj` (an instance of `C`) to access methods from both `A` and `B` as well as its own methods.\n",
        "- The order of inheritance matters in cases where methods might have the same name, as Python uses the **Method Resolution Order (MRO)** to determine which method to call.\n",
        "\n",
        "### Summary of Inheritance Types:\n",
        "| **Type**             | **Description**                                                     | **Example**                          |\n",
        "|----------------------|---------------------------------------------------------------------|--------------------------------------|\n",
        "| **Single**           | One class inherits from another.                                    | `class B(A):`                        |\n",
        "| **Multiple**         | A class inherits from more than one class.                          | `class C(A, B):`                     |\n",
        "| **Multilevel**       | A class inherits from a class, which itself inherits from another.  | `class C(B):` and `class B(A):`      |\n",
        "| **Hierarchical**     | Multiple classes inherit from the same parent class.                | `class B(A):`, `class C(A):`         |\n",
        "| **Hybrid**           | Combination of multiple types of inheritance.                      | Combination of the above types.      |\n",
        "\n",
        "Each inheritance type has different use cases and can help structure code for better reusability and organization."
      ],
      "metadata": {
        "id": "x5H4iF-twWG2"
      }
    },
    {
      "cell_type": "markdown",
      "source": [
        "**Q7. What is the Method Resolution Order (MRO) in Python? How can you retrieve it programmatically?**"
      ],
      "metadata": {
        "id": "h-wkMcafw6fK"
      }
    },
    {
      "cell_type": "markdown",
      "source": [
        "**Ans7.** **Method Resolution Order (MRO) in Python**\n",
        "\n",
        "**Method Resolution Order (MRO)** is the order in which Python looks for a method or attribute in a class hierarchy when a method is called or an attribute is accessed. It defines the sequence in which classes are searched when an object tries to access an attribute. This is especially important in the context of **multiple inheritance**, where a class inherits from more than one parent class.\n",
        "\n",
        "Python follows the **C3 Linearization** (or C3 superclass linearization) algorithm for MRO. This algorithm ensures that the order is consistent and respects the hierarchy of classes, especially in cases where there are complex inheritance patterns.\n",
        "\n",
        "### Why is MRO Important?\n",
        "- It determines the order in which methods are inherited and resolved in a class hierarchy.\n",
        "- It ensures that a method is resolved in the appropriate parent class without ambiguity.\n",
        "- It helps avoid the **diamond problem**, a common issue in multiple inheritance, where a derived class inherits from two classes that both inherit from a common superclass.\n",
        "\n",
        "### How to Retrieve MRO Programmatically?\n",
        "\n",
        "You can retrieve the MRO of a class using:\n",
        "1. The **`__mro__`** attribute.\n",
        "2. The **`mro()`** method of the class.\n",
        "\n",
        "#### 1. Using the `__mro__` Attribute:\n",
        "   The `__mro__` attribute of a class returns a tuple of classes, indicating the order in which methods are resolved."
      ],
      "metadata": {
        "id": "zspi72ISxgkE"
      }
    },
    {
      "cell_type": "code",
      "source": [
        "   class A:\n",
        "       pass\n",
        "\n",
        "   class B(A):\n",
        "       pass\n",
        "\n",
        "   class C(B):\n",
        "       pass\n",
        "\n",
        "   print(C.__mro__)\n",
        "   ```\n",
        "   **Output**:\n",
        "   ```\n",
        "   (<class '__main__.C'>, <class '__main__.B'>, <class '__main__.A'>, <class 'object'>)"
      ],
      "metadata": {
        "id": "m9AfdElZxhes"
      },
      "execution_count": null,
      "outputs": []
    },
    {
      "cell_type": "markdown",
      "source": [
        "   - This output shows that when an attribute or method is called on an instance of `C`, Python first looks in `C`, then in `B`, then in `A`, and finally in the built-in `object` class.\n",
        "\n",
        "#### 2. Using the `mro()` Method:\n",
        "   The `mro()` method of a class returns a list of classes, representing the MRO."
      ],
      "metadata": {
        "id": "Ifq_bHCxxjoE"
      }
    },
    {
      "cell_type": "code",
      "source": [],
      "metadata": {
        "id": "UIeg_IMyxlyk"
      },
      "execution_count": null,
      "outputs": []
    },
    {
      "cell_type": "code",
      "source": [
        "class A:\n",
        "       pass\n",
        "\n",
        "   class B(A):\n",
        "       pass\n",
        "\n",
        "   class C(B):\n",
        "       pass\n",
        "\n",
        "   print(C.mro())"
      ],
      "metadata": {
        "id": "Cjo_BKkmxra9"
      },
      "execution_count": null,
      "outputs": []
    },
    {
      "cell_type": "markdown",
      "source": [
        " **Output**:"
      ],
      "metadata": {
        "id": "Xkm_IfnIxsVV"
      }
    },
    {
      "cell_type": "code",
      "source": [
        "  [<class '__main__.C'>, <class '__main__.B'>, <class '__main__.A'>, <class 'object'>]"
      ],
      "metadata": {
        "id": "WCzvBhr7x6DW"
      },
      "execution_count": null,
      "outputs": []
    },
    {
      "cell_type": "markdown",
      "source": [
        "   - The `mro()` method produces the same information as the `__mro__` attribute but returns it as a list instead of a tuple.\n",
        "\n",
        "### Example with Multiple Inheritance:\n",
        "Let's look at an example with multiple inheritance to see how MRO resolves the order:"
      ],
      "metadata": {
        "id": "elolMyJFx6uO"
      }
    },
    {
      "cell_type": "code",
      "source": [
        "class A:\n",
        "    def method(self):\n",
        "        return \"Method from class A\"\n",
        "\n",
        "class B(A):\n",
        "    def method(self):\n",
        "        return \"Method from class B\"\n",
        "\n",
        "class C(A):\n",
        "    def method(self):\n",
        "        return \"Method from class C\"\n",
        "\n",
        "class D(B, C):\n",
        "    pass\n",
        "\n",
        "d = D()\n",
        "print(d.method())\n",
        "print(D.mro())"
      ],
      "metadata": {
        "id": "CeKDzbekx8pO"
      },
      "execution_count": null,
      "outputs": []
    },
    {
      "cell_type": "markdown",
      "source": [
        "**Output**:"
      ],
      "metadata": {
        "id": "8GfoLuc2yCT2"
      }
    },
    {
      "cell_type": "code",
      "source": [
        "Method from class B\n",
        "[<class '__main__.D'>, <class '__main__.B'>, <class '__main__.C'>, <class '__main__.A'>, <class 'object'>]"
      ],
      "metadata": {
        "id": "qKm_2TbNyEAX"
      },
      "execution_count": null,
      "outputs": []
    },
    {
      "cell_type": "markdown",
      "source": [
        "\n",
        "\n",
        "- The `D` class inherits from both `B` and `C`.\n",
        "- When `d.method()` is called, Python follows the MRO: it first looks in `D`, then `B`, then `C`, and finally `A`.\n",
        "- Since `B` has a `method()` defined, it is used.\n",
        "- The MRO list `[D, B, C, A, object]` is the order in which Python searches for the method.\n",
        "\n",
        "### Summary:\n",
        "- **MRO** is the order in which Python looks for methods or attributes in a class hierarchy.\n",
        "- It uses the **C3 Linearization** algorithm for consistent ordering.\n",
        "- Retrieve MRO using `__mro__` attribute or `mro()` method.\n",
        "- MRO is crucial for resolving the diamond problem and ensuring the correct method is called in complex inheritance scenarios."
      ],
      "metadata": {
        "id": "PiZiWq_ExTGj"
      }
    },
    {
      "cell_type": "markdown",
      "source": [
        "**Q8. Create an abstract base class `Shape` with an abstract method `area()`. Then create two subclasses `Circle` and `Rectangle` that implement the `area()` method.**"
      ],
      "metadata": {
        "id": "GnU8ZESUyJMX"
      }
    },
    {
      "cell_type": "markdown",
      "source": [
        "**Ans8**. To create an **abstract base class** in Python, you use the `abc` (Abstract Base Classes) module, which allows you to define classes with one or more abstract methods. An **abstract method** is a method that is declared but contains no implementation and must be overridden by any subclass.\n",
        "\n",
        "Here’s how you can create an abstract base class `Shape` with an abstract method `area()` and two subclasses, `Circle` and `Rectangle`, that implement this method:\n",
        "\n",
        "### Example:"
      ],
      "metadata": {
        "id": "FbnDzj1kyayg"
      }
    },
    {
      "cell_type": "code",
      "source": [
        "from abc import ABC, abstractmethod\n",
        "import math\n",
        "\n",
        "# Abstract base class\n",
        "class Shape(ABC):\n",
        "    @abstractmethod\n",
        "    def area(self):\n",
        "        pass\n",
        "\n",
        "# Subclass for Circle\n",
        "class Circle(Shape):\n",
        "    def __init__(self, radius):\n",
        "        self.radius = radius\n",
        "\n",
        "    def area(self):\n",
        "        return math.pi * (self.radius ** 2)\n",
        "\n",
        "# Subclass for Rectangle\n",
        "class Rectangle(Shape):\n",
        "    def __init__(self, width, height):\n",
        "        self.width = width\n",
        "        self.height = height\n",
        "\n",
        "    def area(self):\n",
        "        return self.width * self.height\n",
        "\n",
        "# Example usage:\n",
        "circle = Circle(5)\n",
        "rectangle = Rectangle(4, 6)\n",
        "\n",
        "print(f\"Area of the circle: {circle.area():.2f}\")    # Output: Area of the circle: 78.54\n",
        "print(f\"Area of the rectangle: {rectangle.area()}\")  # Output: Area of the rectangle: 24"
      ],
      "metadata": {
        "id": "T-KCXXg4ybOo"
      },
      "execution_count": null,
      "outputs": []
    },
    {
      "cell_type": "markdown",
      "source": [
        "\n",
        "\n",
        "### Explanation:\n",
        "1. **Abstract Base Class (`Shape`)**:\n",
        "   - `Shape` inherits from `ABC`, which makes it an abstract base class.\n",
        "   - The `@abstractmethod` decorator is used to declare `area()` as an abstract method. This means any subclass of `Shape` must implement `area()`.\n",
        "\n",
        "2. **Circle Class**:\n",
        "   - The `Circle` class inherits from `Shape` and provides an implementation for the `area()` method.\n",
        "   - The area of a circle is calculated using the formula: \\(\\pi \\times \\text{radius}^2\\).\n",
        "\n",
        "3. **Rectangle Class**:\n",
        "   - The `Rectangle` class inherits from `Shape` and implements the `area()` method.\n",
        "   - The area of a rectangle is calculated using the formula: \\(\\text{width} \\times \\text{height}\\).\n",
        "\n",
        "4. **Usage**:\n",
        "   - Objects `circle` and `rectangle` are created using their respective classes.\n",
        "   - Calling the `area()` method on each object computes and returns the area based on the implementation in each subclass.\n",
        "\n",
        "### Key Points:\n",
        "- The `Shape` class is abstract and cannot be instantiated directly.\n",
        "- Any class inheriting from `Shape` must implement the `area()` method.\n",
        "- This approach is useful for creating a blueprint for different shapes, ensuring they all have a method to compute their area while allowing each shape to define its specific calculation."
      ],
      "metadata": {
        "id": "2OzicfNWyT59"
      }
    },
    {
      "cell_type": "markdown",
      "source": [
        "**Q9. Demonstrate polymorphism by creating a function that can work with different shape objects to calculate and print their areas.**"
      ],
      "metadata": {
        "id": "zhtj4nIFygvR"
      }
    },
    {
      "cell_type": "markdown",
      "source": [
        "**Ans9.** Polymorphism in Python allows functions to operate on objects of different types, as long as those objects share a common interface (such as having the same method name). In this example, we’ll create a function that takes any object with an `area()` method (like `Circle` and `Rectangle` objects from before) and prints its area.\n",
        "\n",
        "### Example:\n",
        "We’ll reuse the `Shape`, `Circle`, and `Rectangle` classes from the previous example and create a function called `print_area()` to demonstrate polymorphism."
      ],
      "metadata": {
        "id": "Aw003V-Byyzt"
      }
    },
    {
      "cell_type": "code",
      "source": [
        "from abc import ABC, abstractmethod\n",
        "import math\n",
        "\n",
        "# Abstract base class\n",
        "class Shape(ABC):\n",
        "    @abstractmethod\n",
        "    def area(self):\n",
        "        pass\n",
        "\n",
        "# Subclass for Circle\n",
        "class Circle(Shape):\n",
        "    def __init__(self, radius):\n",
        "        self.radius = radius\n",
        "\n",
        "    def area(self):\n",
        "        return math.pi * (self.radius ** 2)\n",
        "\n",
        "# Subclass for Rectangle\n",
        "class Rectangle(Shape):\n",
        "    def __init__(self, width, height):\n",
        "        self.width = width\n",
        "        self.height = height\n",
        "\n",
        "    def area(self):\n",
        "        return self.width * self.height\n",
        "\n",
        "# Function that demonstrates polymorphism\n",
        "def print_area(shape):\n",
        "    print(f\"The area is: {shape.area():.2f}\")\n",
        "\n",
        "# Example usage:\n",
        "circle = Circle(5)\n",
        "rectangle = Rectangle(4, 6)\n",
        "\n",
        "print_area(circle)       # Output: The area is: 78.54\n",
        "print_area(rectangle)    # Output: The area is: 24.00"
      ],
      "metadata": {
        "id": "1M2ezSn0xQaj"
      },
      "execution_count": null,
      "outputs": []
    },
    {
      "cell_type": "markdown",
      "source": [
        "\n",
        "### Explanation:\n",
        "1. **Polymorphic Function (`print_area`)**:\n",
        "   - `print_area()` is a function that accepts a `shape` object as its parameter.\n",
        "   - It calls the `area()` method on the `shape` object without needing to know whether it's a `Circle` or a `Rectangle`.\n",
        "\n",
        "2. **Using the Function with Different Shape Objects**:\n",
        "   - `circle` and `rectangle` are instances of `Circle` and `Rectangle` classes, respectively.\n",
        "   - When `print_area(circle)` is called, it calculates the area using `Circle`'s implementation of `area()`.\n",
        "   - When `print_area(rectangle)` is called, it calculates the area using `Rectangle`'s implementation of `area()`.\n",
        "\n",
        "3. **Polymorphism in Action**:\n",
        "   - `print_area()` works with any object that has an `area()` method, showcasing polymorphism.\n",
        "   - Even though `circle` and `rectangle` are different types, they both implement `area()` from the abstract `Shape` class, allowing `print_area()` to treat them uniformly.\n",
        "\n",
        "### Output:\n",
        "```\n",
        "The area is: 78.54\n",
        "The area is: 24.00\n",
        "```\n",
        "\n",
        "### Key Takeaway:\n",
        "- **Polymorphism** allows functions like `print_area()` to interact with objects of different types as long as they follow a shared interface (in this case, having an `area()` method).\n",
        "- This makes the function more versatile and reduces the need for specific type checks, improving code flexibility and reusability."
      ],
      "metadata": {
        "id": "siiirFfRymek"
      }
    },
    {
      "cell_type": "markdown",
      "source": [
        "**Q10. Implement encapsulation in a `BankAccount` class with private attributes for `balance` and `account_number`. Include methods for deposit, withdrawal, and balance inquiry.**"
      ],
      "metadata": {
        "id": "UC5_Sptyy5nP"
      }
    },
    {
      "cell_type": "markdown",
      "source": [
        "**Ans10.** To implement **encapsulation** in Python, you can use **private attributes** and **public methods** to control access to an object's internal state. Private attributes are defined with a double underscore prefix (`__`) to restrict direct access from outside the class. Instead, access is provided through public methods that control how these attributes can be modified.\n",
        "\n",
        "Here’s an implementation of a `BankAccount` class with encapsulation:\n",
        "\n",
        "### Example:"
      ],
      "metadata": {
        "id": "kTSZWDn7zOTc"
      }
    },
    {
      "cell_type": "code",
      "source": [
        "class BankAccount:\n",
        "    def __init__(self, account_number, balance=0):\n",
        "        self.__account_number = account_number  # Private attribute for account number\n",
        "        self.__balance = balance                # Private attribute for balance\n",
        "\n",
        "    def deposit(self, amount):\n",
        "        \"\"\"Deposits a specified amount into the account.\"\"\"\n",
        "        if amount > 0:\n",
        "            self.__balance += amount\n",
        "            print(f\"Deposited: {amount}. New balance: {self.__balance}\")\n",
        "        else:\n",
        "            print(\"Deposit amount must be positive.\")\n",
        "\n",
        "    def withdraw(self, amount):\n",
        "        \"\"\"Withdraws a specified amount from the account if sufficient balance is available.\"\"\"\n",
        "        if 0 < amount <= self.__balance:\n",
        "            self.__balance -= amount\n",
        "            print(f\"Withdrew: {amount}. New balance: {self.__balance}\")\n",
        "        else:\n",
        "            print(\"Insufficient funds or invalid withdrawal amount.\")\n",
        "\n",
        "    def get_balance(self):\n",
        "        \"\"\"Returns the current balance.\"\"\"\n",
        "        return self.__balance\n",
        "\n",
        "    def get_account_number(self):\n",
        "        \"\"\"Returns the account number.\"\"\"\n",
        "        return self.__account_number\n",
        "\n",
        "# Example usage:\n",
        "account = BankAccount(\"1234567890\", 1000)\n",
        "print(f\"Account Number: {account.get_account_number()}\")\n",
        "print(f\"Initial Balance: {account.get_balance()}\")\n",
        "\n",
        "account.deposit(500)    # Deposited: 500. New balance: 1500\n",
        "account.withdraw(200)   # Withdrew: 200. New balance: 1300\n",
        "account.withdraw(1500)  # Insufficient funds or invalid withdrawal amount.\n",
        "print(f\"Final Balance: {account.get_balance()}\")"
      ],
      "metadata": {
        "id": "6KTAxU0mzOu4"
      },
      "execution_count": null,
      "outputs": []
    },
    {
      "cell_type": "markdown",
      "source": [
        "\n",
        "### Explanation:\n",
        "1. **Private Attributes**:\n",
        "   - `self.__account_number`: The double underscore (`__`) makes `account_number` a private attribute.\n",
        "   - `self.__balance`: The double underscore (`__`) makes `balance` a private attribute, preventing direct access from outside the class.\n",
        "\n",
        "2. **Public Methods**:\n",
        "   - `deposit(self, amount)`: Allows adding a positive amount to `__balance`. It validates that the deposit amount is positive before adding it.\n",
        "   - `withdraw(self, amount)`: Allows withdrawing an amount if it is positive and there is sufficient balance.\n",
        "   - `get_balance(self)`: Provides access to the current balance without allowing direct modification.\n",
        "   - `get_account_number(self)`: Provides access to the `account_number` without allowing direct modification.\n",
        "\n",
        "3. **Example Usage**:\n",
        "   - A `BankAccount` object is created with an account number and initial balance.\n",
        "   - Deposits and withdrawals are made using the `deposit()` and `withdraw()` methods, which control access to the balance.\n",
        "   - The current balance is retrieved using `get_balance()`, showcasing how private attributes are accessed through methods.\n",
        "\n",
        "### Output:\n",
        "\n"
      ],
      "metadata": {
        "id": "0gbfx2A4zT8U"
      }
    },
    {
      "cell_type": "code",
      "source": [
        "Account Number: 1234567890\n",
        "Initial Balance: 1000\n",
        "Deposited: 500. New balance: 1500\n",
        "Withdrew: 200. New balance: 1300\n",
        "Insufficient funds or invalid withdrawal amount.\n",
        "Final Balance: 1300"
      ],
      "metadata": {
        "id": "NyMj0tPwzbR_"
      },
      "execution_count": null,
      "outputs": []
    },
    {
      "cell_type": "markdown",
      "source": [
        "\n",
        "### Key Points:\n",
        "- **Encapsulation** protects an object’s internal state by restricting direct access to its data. Only the class’s methods can modify or access private attributes.\n",
        "- Using **private attributes** (`__balance` and `__account_number`), we ensure that the account's balance and account number cannot be altered directly from outside the `BankAccount` class.\n",
        "- Methods like `deposit()` and `withdraw()` control how and when modifications to `balance` are allowed, ensuring that deposits are positive and withdrawals don't exceed the available balance."
      ],
      "metadata": {
        "id": "GzjA8DVRy_DI"
      }
    },
    {
      "cell_type": "markdown",
      "source": [
        "**Q11. Write a class that overrides the `__str__` and `__add__` magic methods. What will these methods allow you to do?**"
      ],
      "metadata": {
        "id": "GMj7BxuGzdxY"
      }
    },
    {
      "cell_type": "markdown",
      "source": [
        "**Ans11.** In Python, magic methods (also known as dunder methods, short for \"double underscore\") allow you to define the behavior of operators and built-in functions for your custom classes. The `__str__` and `__add__` methods are two commonly overridden magic methods that enable custom string representations and addition operations for class instances, respectively.\n",
        "\n",
        "### Example of a Class with `__str__` and `__add__` Magic Methods\n",
        "\n",
        "Let's create a class called `Vector` that represents a mathematical vector. We'll override the `__str__` method to provide a custom string representation of the vector and the `__add__` method to define how two vectors can be added together."
      ],
      "metadata": {
        "id": "PZir82PZztgC"
      }
    },
    {
      "cell_type": "code",
      "source": [
        "class Vector:\n",
        "    def __init__(self, x, y):\n",
        "        self.x = x  # x-coordinate\n",
        "        self.y = y  # y-coordinate\n",
        "\n",
        "    def __str__(self):\n",
        "        \"\"\"Return a string representation of the Vector.\"\"\"\n",
        "        return f\"Vector({self.x}, {self.y})\"\n",
        "\n",
        "    def __add__(self, other):\n",
        "        \"\"\"Add two vectors together.\"\"\"\n",
        "        if isinstance(other, Vector):\n",
        "            return Vector(self.x + other.x, self.y + other.y)\n",
        "        return NotImplemented\n",
        "\n",
        "# Example usage:\n",
        "v1 = Vector(2, 3)\n",
        "v2 = Vector(4, 5)\n",
        "\n",
        "# Using the __str__ method\n",
        "print(v1)  # Output: Vector(2, 3)\n",
        "print(v2)  # Output: Vector(4, 5)\n",
        "\n",
        "# Using the __add__ method\n",
        "v3 = v1 + v2\n",
        "print(v3)  # Output: Vector(6, 8)"
      ],
      "metadata": {
        "id": "nrWkct_rzt7Z"
      },
      "execution_count": null,
      "outputs": []
    },
    {
      "cell_type": "markdown",
      "source": [
        "### Explanation:\n",
        "1. **Class Definition**:\n",
        "   - The `Vector` class has an `__init__` method that initializes the `x` and `y` coordinates of the vector.\n",
        "\n",
        "2. **Overriding `__str__`**:\n",
        "   - The `__str__` method returns a formatted string that represents the vector in a human-readable form, e.g., `Vector(2, 3)`.\n",
        "   - This method is called when you use the `print()` function or `str()` on an instance of the class.\n",
        "\n",
        "3. **Overriding `__add__`**:\n",
        "   - The `__add__` method defines how two `Vector` objects can be added together using the `+` operator.\n",
        "   - It checks if the other object is an instance of `Vector`. If so, it returns a new `Vector` whose coordinates are the sum of the two vectors' coordinates.\n",
        "   - If the other object is not a `Vector`, it returns `NotImplemented`, which allows Python to handle the operation in a way that maintains the expected behavior.\n",
        "\n",
        "### What These Methods Allow You to Do:\n",
        "- **`__str__`**: Provides a way to control how instances of your class are represented as strings. This is especially useful for debugging and logging, as it allows you to format the output in a readable manner.\n",
        "  \n",
        "- **`__add__`**: Enables the use of the `+` operator to add instances of your class together. This makes the class behave more like built-in types and allows you to use intuitive operations with your custom objects.\n",
        "\n",
        "### Example Output:"
      ],
      "metadata": {
        "id": "J9LzRnvHzz-O"
      }
    },
    {
      "cell_type": "code",
      "source": [
        "Vector(2, 3)\n",
        "Vector(4, 5)\n",
        "Vector(6, 8)"
      ],
      "metadata": {
        "id": "Gc0aoRFZz1M-"
      },
      "execution_count": null,
      "outputs": []
    },
    {
      "cell_type": "markdown",
      "source": [
        "\n",
        "### Summary:\n",
        "- By overriding `__str__`, you can customize the string representation of your objects, making them easier to read and understand when printed.\n",
        "- By overriding `__add__`, you can define how your objects can be added together, facilitating intuitive arithmetic operations that enhance usability and maintainability of your class."
      ],
      "metadata": {
        "id": "LBdui8U1zolV"
      }
    },
    {
      "cell_type": "markdown",
      "source": [
        "**Q12. Create a decorator that measures and prints the execution time of a function.**"
      ],
      "metadata": {
        "id": "jK14mKBfz3y-"
      }
    },
    {
      "cell_type": "markdown",
      "source": [
        "**Ans12.** In Python, a **decorator** is a function that modifies the behavior of another function. To create a decorator that measures and prints the execution time of a function, you can use the `time` module to capture the start and end times of the function's execution. Here's how you can implement this:\n",
        "\n",
        "### Example of a Timing *Decorator*"
      ],
      "metadata": {
        "id": "yZ2ekU9r0CjB"
      }
    },
    {
      "cell_type": "code",
      "source": [
        "import time\n",
        "\n",
        "def time_decorator(func):\n",
        "    \"\"\"Decorator to measure execution time of a function.\"\"\"\n",
        "    def wrapper(*args, **kwargs):\n",
        "        start_time = time.time()  # Record the start time\n",
        "        result = func(*args, **kwargs)  # Call the original function\n",
        "        end_time = time.time()  # Record the end time\n",
        "        execution_time = end_time - start_time  # Calculate execution time\n",
        "        print(f\"Execution time for {func.__name__}: {execution_time:.4f} seconds\")\n",
        "        return result  # Return the result of the function\n",
        "    return wrapper\n",
        "\n",
        "# Example usage\n",
        "@time_decorator\n",
        "def slow_function():\n",
        "    \"\"\"A function that simulates a slow process.\"\"\"\n",
        "    time.sleep(2)  # Sleep for 2 seconds\n",
        "\n",
        "@time_decorator\n",
        "def add_numbers(a, b):\n",
        "    \"\"\"A simple function to add two numbers.\"\"\"\n",
        "    return a + b\n",
        "\n",
        "# Call the functions\n",
        "slow_function()  # This will print the execution time\n",
        "result = add_numbers(5, 3)  # This will also print the execution time\n",
        "print(f\"Result of addition: {result}\")  # Output: Result of addition: 8"
      ],
      "metadata": {
        "id": "GGq6lcV_z8fX"
      },
      "execution_count": null,
      "outputs": []
    },
    {
      "cell_type": "markdown",
      "source": [
        "### Explanation:\n",
        "1. **Decorator Function (`time_decorator`)**:\n",
        "   - The `time_decorator` function takes another function (`func`) as an argument and defines an inner function `wrapper` that will replace the original function.\n",
        "   - The `wrapper` function uses `*args` and `**kwargs` to accept any arguments and keyword arguments passed to the original function.\n",
        "\n",
        "2. **Measuring Execution Time**:\n",
        "   - `start_time` captures the current time before calling the original function.\n",
        "   - After the function executes, `end_time` captures the current time again.\n",
        "   - The execution time is calculated by subtracting `start_time` from `end_time`.\n",
        "\n",
        "3. **Printing the Execution Time**:\n",
        "   - The decorator prints the execution time formatted to four decimal places, along with the name of the function being timed.\n",
        "\n",
        "4. **Returning the Original Function's Result**:\n",
        "   - The result of the original function is returned so that it can still be used as expected.\n",
        "\n",
        "5. **Using the Decorator**:\n",
        "   - The `@time_decorator` syntax is used to apply the decorator to `slow_function` and `add_numbers`.\n",
        "   - When `slow_function()` is called, it will take about 2 seconds to complete, and the execution time will be printed.\n",
        "   - When `add_numbers(5, 3)` is called, the execution time for the addition will also be printed.\n",
        "\n",
        "### Example Output:"
      ],
      "metadata": {
        "id": "gyAYZpZR0LTS"
      }
    },
    {
      "cell_type": "code",
      "source": [
        "Execution time for slow_function: 2.0003 seconds\n",
        "Execution time for add_numbers: 0.0001 seconds\n",
        "Result of addition: 8"
      ],
      "metadata": {
        "id": "MdftDBuo0NYy"
      },
      "execution_count": null,
      "outputs": []
    },
    {
      "cell_type": "markdown",
      "source": [
        "\n",
        "### Summary:\n",
        "- This decorator provides a reusable way to measure the execution time of any function.\n",
        "- You can apply `@time_decorator` to any function you want to time, making it a versatile tool for performance monitoring and optimization in your code."
      ],
      "metadata": {
        "id": "0u9LPmx8z87o"
      }
    },
    {
      "cell_type": "markdown",
      "source": [
        "**Q13. Explain the concept of the Diamond Problem in multiple inheritance. How does Python resolve it?**"
      ],
      "metadata": {
        "id": "aa4yLx_C0NDS"
      }
    },
    {
      "cell_type": "markdown",
      "source": [
        "**Ans13.** The **Diamond Problem** is a well-known issue that arises in object-oriented programming when dealing with **multiple inheritance**. It occurs when a class inherits from two classes that both inherit from a common base class. This creates a \"diamond\" shape in the inheritance hierarchy, leading to ambiguity about which path to follow to access the base class methods or properties.\n",
        "\n",
        "### Illustration of the Diamond Problem\n",
        "\n",
        "Consider the following class structure:"
      ],
      "metadata": {
        "id": "tUh9tlXf1Rfc"
      }
    },
    {
      "cell_type": "code",
      "source": [
        "      A\n",
        "     / \\\n",
        "    B   C\n",
        "     \\ /\n",
        "      D"
      ],
      "metadata": {
        "id": "4g9uI9LQ1S4Q"
      },
      "execution_count": null,
      "outputs": []
    },
    {
      "cell_type": "markdown",
      "source": [
        "- **Class A** is the base class.\n",
        "- **Class B** and **Class C** both inherit from **Class A**.\n",
        "- **Class D** inherits from both **Class B** and **Class C**.\n",
        "\n",
        "If you create an instance of **Class D** and call a method defined in **Class A**, it's unclear whether the method should be called from **Class B** or **Class C**. This ambiguity is what constitutes the Diamond Problem.\n",
        "\n",
        "### Example in Python\n",
        "\n",
        "Here’s an example demonstrating the Diamond Problem:"
      ],
      "metadata": {
        "id": "Uug66vfD1TUc"
      }
    },
    {
      "cell_type": "code",
      "source": [
        "class A:\n",
        "    def greet(self):\n",
        "        print(\"Hello from Class A\")\n",
        "\n",
        "class B(A):\n",
        "    def greet(self):\n",
        "        print(\"Hello from Class B\")\n",
        "\n",
        "class C(A):\n",
        "    def greet(self):\n",
        "        print(\"Hello from Class C\")\n",
        "\n",
        "class D(B, C):\n",
        "    pass\n",
        "\n",
        "# Create an instance of D\n",
        "d = D()\n",
        "d.greet()  # Which greet() will be called?"
      ],
      "metadata": {
        "id": "UpZ7jeRo1WVt"
      },
      "execution_count": null,
      "outputs": []
    },
    {
      "cell_type": "markdown",
      "source": [
        "### Output:"
      ],
      "metadata": {
        "id": "ikZlD52c1aRS"
      }
    },
    {
      "cell_type": "code",
      "source": [
        "Hello from Class B"
      ],
      "metadata": {
        "id": "d74Uwoou1dGX"
      },
      "execution_count": null,
      "outputs": []
    },
    {
      "cell_type": "markdown",
      "source": [
        "### How Python Resolves the Diamond Problem\n",
        "\n",
        "Python uses the **Method Resolution Order (MRO)** to resolve ambiguities in multiple inheritance. The MRO is the order in which base classes are searched when calling a method.\n",
        "\n",
        "1. **C3 Linearization**:\n",
        "   - Python employs an algorithm known as **C3 Linearization** (or C3 superclass linearization) to establish the MRO. This algorithm ensures that a consistent order is produced for method resolution, respecting the order in which classes are defined.\n",
        "   \n",
        "2. **Order of Resolution**:\n",
        "   - When you call a method on an instance of **Class D**, Python first looks in **Class D**, then in **Class B**, then **Class C**, and finally in **Class A**. The order is determined by the order of inheritance and the class hierarchy.\n",
        "\n",
        "3. **Accessing MRO**:\n",
        "   - You can view the MRO of a class by using the `__mro__` attribute or the `mro()` method.\n",
        "\n",
        "### Example of MRO in Python"
      ],
      "metadata": {
        "id": "QQ3tYVMd1iLQ"
      }
    },
    {
      "cell_type": "code",
      "source": [
        "print(D.__mro__)\n",
        "# Output: (<class '__main__.D'>, <class '__main__.B'>, <class '__main__.C'>, <class '__main__.A'>, <class 'object'>)"
      ],
      "metadata": {
        "id": "5X4Z0SKt1jtA"
      },
      "execution_count": null,
      "outputs": []
    },
    {
      "cell_type": "markdown",
      "source": [
        "### Summary of MRO Resolution:\n",
        "- In the case of class **D** inheriting from **B** and **C**, the `greet()` method from **B** is called first because **B** comes before **C** in the MRO.\n",
        "- If you want to explicitly call the method from **Class C**, you can do so by referencing it directly:\n",
        "\n"
      ],
      "metadata": {
        "id": "_epabKbs1mIw"
      }
    },
    {
      "cell_type": "code",
      "source": [
        "C.greet(d)  # Output: Hello from Class C"
      ],
      "metadata": {
        "id": "eU1OSUN71vw7"
      },
      "execution_count": null,
      "outputs": []
    },
    {
      "cell_type": "markdown",
      "source": [
        "\n",
        "\n",
        "### Conclusion:\n",
        "- The Diamond Problem illustrates the complexities that can arise with multiple inheritance, but Python's MRO effectively resolves these ambiguities by following a systematic method for class resolution.\n",
        "- Understanding MRO is crucial for designing classes and using multiple inheritance safely and effectively in Python."
      ],
      "metadata": {
        "id": "PRW3J3wt0TM1"
      }
    },
    {
      "cell_type": "markdown",
      "source": [
        "**Q14. Write a class method that keeps track of the number of instances created from a class.**"
      ],
      "metadata": {
        "id": "G35uepAH1sDr"
      }
    },
    {
      "cell_type": "markdown",
      "source": [
        "**Ans14.** To create a class method that keeps track of the number of instances created from a class, you can define a class variable that increments each time an instance is created. Here’s how you can implement this in Python:\n",
        "\n",
        "### Example of a Class with Instance Counting"
      ],
      "metadata": {
        "id": "wqKGYFxM1-KZ"
      }
    },
    {
      "cell_type": "code",
      "source": [
        "class InstanceCounter:\n",
        "    instance_count = 0  # Class variable to keep track of the number of instances\n",
        "\n",
        "    def __init__(self):\n",
        "        InstanceCounter.instance_count += 1  # Increment count on instance creation\n",
        "\n",
        "    @classmethod\n",
        "    def get_instance_count(cls):\n",
        "        \"\"\"Class method to return the current instance count.\"\"\"\n",
        "        return cls.instance_count\n",
        "\n",
        "# Example usage\n",
        "obj1 = InstanceCounter()\n",
        "obj2 = InstanceCounter()\n",
        "obj3 = InstanceCounter()\n",
        "\n",
        "# Get the current instance count\n",
        "print(f\"Number of instances created: {InstanceCounter.get_instance_count()}\")"
      ],
      "metadata": {
        "id": "yFLt46xr1-eu"
      },
      "execution_count": null,
      "outputs": []
    },
    {
      "cell_type": "markdown",
      "source": [
        "### Explanation:\n",
        "1. **Class Variable (`instance_count`)**:\n",
        "   - The class variable `instance_count` is initialized to `0` and is used to track the total number of instances created from the `InstanceCounter` class.\n",
        "\n",
        "2. **Constructor (`__init__` method)**:\n",
        "   - The constructor increments the `instance_count` by `1` each time a new instance of `InstanceCounter` is created.\n",
        "\n",
        "3. **Class Method (`get_instance_count`)**:\n",
        "   - The class method `get_instance_count` uses the `@classmethod` decorator and takes `cls` as its first parameter, which represents the class itself.\n",
        "   - It returns the current value of `instance_count`.\n",
        "\n",
        "4. **Example Usage**:\n",
        "   - When three instances of `InstanceCounter` (`obj1`, `obj2`, and `obj3`) are created, the count increases to `3`.\n",
        "   - Calling `InstanceCounter.get_instance_count()` prints the total number of instances created."
      ],
      "metadata": {
        "id": "Dlqd42F-2DJv"
      }
    },
    {
      "cell_type": "markdown",
      "source": [
        "### Output:"
      ],
      "metadata": {
        "id": "xg4qCicV2GXy"
      }
    },
    {
      "cell_type": "code",
      "source": [
        "Number of instances created: 3"
      ],
      "metadata": {
        "id": "2yFvjTiu2H7K"
      },
      "execution_count": null,
      "outputs": []
    },
    {
      "cell_type": "markdown",
      "source": [
        "\n",
        "\n",
        "### Summary:\n",
        "- This implementation effectively counts the number of instances created from the `InstanceCounter` class by using a class variable and a class method.\n",
        "- The class method can be called on the class itself without needing an instance, making it a useful way to retrieve class-level data."
      ],
      "metadata": {
        "id": "_SzNK0UN14cN"
      }
    },
    {
      "cell_type": "markdown",
      "source": [
        "**Q15. Implement a static method in a class that checks if a given year is a leap year.**"
      ],
      "metadata": {
        "id": "7Ov3Oqcm2KaD"
      }
    },
    {
      "cell_type": "markdown",
      "source": [
        "**Ans15.** To implement a static method in a class that checks if a given year is a leap year, you can use the following rules for leap years:\n",
        "\n",
        "1. A year is a leap year if it is divisible by 4.\n",
        "2. However, if the year is divisible by 100, it is not a leap year, unless:\n",
        "3. The year is also divisible by 400, in which case it is a leap year.\n",
        "\n",
        "Here’s how you can implement this logic in a Python class:\n",
        "\n",
        "### Example of a Class with a Static Method for Leap Year Check"
      ],
      "metadata": {
        "id": "fupIlpNT2a8W"
      }
    },
    {
      "cell_type": "code",
      "source": [
        "class YearUtils:\n",
        "    @staticmethod\n",
        "    def is_leap_year(year):\n",
        "        \"\"\"Check if the given year is a leap year.\"\"\"\n",
        "        if (year % 4 == 0 and year % 100 != 0) or (year % 400 == 0):\n",
        "            return True\n",
        "        else:\n",
        "            return False\n",
        "\n",
        "# Example usage\n",
        "year = 2024\n",
        "if YearUtils.is_leap_year(year):\n",
        "    print(f\"{year} is a leap year.\")\n",
        "else:\n",
        "    print(f\"{year} is not a leap year.\")\n",
        "\n",
        "year = 1900\n",
        "if YearUtils.is_leap_year(year):\n",
        "    print(f\"{year} is a leap year.\")\n",
        "else:\n",
        "    print(f\"{year} is not a leap year.\")\n",
        "\n",
        "year = 2000\n",
        "if YearUtils.is_leap_year(year):\n",
        "    print(f\"{year} is a leap year.\")\n",
        "else:\n",
        "    print(f\"{year} is not a leap year.\")"
      ],
      "metadata": {
        "id": "R6x3KXza2ewm"
      },
      "execution_count": null,
      "outputs": []
    },
    {
      "cell_type": "markdown",
      "source": [
        "### Explanation:\n",
        "1. **Static Method (`is_leap_year`)**:\n",
        "   - The `@staticmethod` decorator is used to define the static method `is_leap_year`.\n",
        "   - This method takes a single argument, `year`, and checks if it satisfies the leap year conditions.\n",
        "\n",
        "2. **Leap Year Logic**:\n",
        "   - The method checks:\n",
        "     - If the year is divisible by 4 and not divisible by 100, or\n",
        "     - If the year is divisible by 400.\n",
        "   - If either condition is true, the method returns `True`, indicating that the year is a leap year. Otherwise, it returns `False`.\n",
        "\n",
        "3. **Example Usage**:\n",
        "   - The example demonstrates checking several years (2024, 1900, and 2000) to see if they are leap years.\n",
        "   - The output indicates whether each year is a leap year or not.\n",
        "\n",
        "### Output:"
      ],
      "metadata": {
        "id": "Vcg-iA5K2hWp"
      }
    },
    {
      "cell_type": "code",
      "source": [
        "2024 is a leap year.\n",
        "1900 is not a leap year.\n",
        "2000 is a leap year."
      ],
      "metadata": {
        "id": "Ca8Mz9fm2ixB"
      },
      "execution_count": null,
      "outputs": []
    },
    {
      "cell_type": "markdown",
      "source": [
        "\n",
        "### Summary:\n",
        "- The `is_leap_year` static method provides a convenient way to check for leap years without requiring an instance of the class.\n",
        "- Static methods are used when you don't need access to instance or class-level data, making them a good fit for utility functions like this one."
      ],
      "metadata": {
        "id": "PFIOgzQq2Ogb"
      }
    }
  ]
}